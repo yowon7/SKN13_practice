{
 "cells": [
  {
   "cell_type": "markdown",
   "id": "c8c6ac1e",
   "metadata": {
    "slideshow": {
     "slide_type": "slide"
    }
   },
   "source": [
    "# 프로그래밍 개요\n",
    "\n",
    "## 프로그램(Program)이란\n",
    "- 컴퓨터에 특정 작업을 실행시키기 위한 처리 방법과 순서를 논리적으로 작성한 명령문들의 집합"
   ]
  },
  {
   "cell_type": "markdown",
   "id": "3ee2244a",
   "metadata": {
    "slideshow": {
     "slide_type": "fragment"
    }
   },
   "source": [
    "## 관련 용어\n",
    "- 로직(Logic), 알고리즘(Algorithm)\n",
    "    - 프로그램이 시작해서 목적한 결과를 낼 때까지 일의 순서, 논리적인 흐름을 **프로그램 로직**이라 한다.\n",
    "- 프로그래밍(Programming)\n",
    "    - 로직을 작성하는 작업\n",
    "    - 코드를 작성하는 일이므로 코딩이라고도 한다.\n",
    "    \n",
    "- 프로그래밍 언어(Programming Language)\n",
    "    - 프로그램을 작성할 때 사용하는 언어\n",
    "    - 범용적인 언어: 파이썬, 자바, C언어\n",
    "    - 특수 목적의 언어: R, SQL\n",
    "    - https://www.tiobe.com/tiobe-index/\n",
    "\n",
    "- Library, API\n",
    "    - 프로그램을 작성하는데 자주 반복적으로 사용되는 코드들을 미리 작성해 제공하는 것을 말한다.\n",
    "    - 파이썬에서는 패키지라고도 한다."
   ]
  },
  {
   "cell_type": "markdown",
   "id": "154a1176",
   "metadata": {
    "slideshow": {
     "slide_type": "slide"
    }
   },
   "source": [
    "## 프로그래밍 언어\n",
    "- 프로그램을 작성할 때는 **사람이 이해하는 언어를 이용해 작성하고** 실행을 위해서 **기계가 이해하는 언어로 변환해야 한다.**\n",
    "- **High Level Language**\n",
    "    - 프로그램을 작성할 때 사람이 이해하는 언어로 작성한다.\n",
    "    - High Level Language로 코드를 작성한 것을 **Source code** 라고 한다.\n",
    "- **Low Level Language (기계어)**\n",
    "    - 컴퓨터가 이해하는 언어. \n",
    "        - 컴퓨터는 사람의 언어를 이해하거나 저장하지 못한다. 한다.\n",
    "        - 0과 1(on/off)의 **2진 데이터(binary code)** 이다.\n",
    "    - 기계어로 변환된 코드를 **Binary Code**라고 한다.\n",
    "\n",
    "![기계어](images/ch01_01.png)"
   ]
  },
  {
   "cell_type": "markdown",
   "id": "69c82e2d",
   "metadata": {
    "cell_style": "center",
    "slideshow": {
     "slide_type": "slide"
    }
   },
   "source": [
    "### Compile과 Interpret\n",
    "- 사람이 이해하는 High Level Language 로 작성한 프로그램 코드를 실행할 때는 기계가 이해하는 언어인 기계어(Binary code)로 변환해야 한다. 이 **변환 방식에는 compile 방식과 interpred 방식 두가지가 있다.** 프로그래밍 언어들마다 두 방식중 하나를 사용한다.\n",
    "- **Compiled 방식**\n",
    "    - **Compiler(컴파일러)** 라는 변환프로그램을 이용해 소스 코드를 **한번에 변환해 바이너리 파일을 생성한다.**\n",
    "    - 소스코드가 아닌 변경된 바이너리 파일을 실행한다.\n",
    "    - **장점**\n",
    "        - 프로그램 실행속도가 빠르다. \n",
    "    - **단점**\n",
    "        - **OS(Platform) 종속적인이다.** 그래서 OS별로 프로그램을 작성해야 한다."
   ]
  },
  {
   "cell_type": "markdown",
   "id": "20795800-bb83-488b-b4c9-c4b6dea90dc6",
   "metadata": {
    "cell_style": "center",
    "slideshow": {
     "slide_type": "subslide"
    }
   },
   "source": [
    "- **Interpreted 방식**\n",
    "    - 소스코드를 바로 실행시키면 **한 명령문 씩 기계어로 변환해서 실행시킨다.**\n",
    "        - **Interpreter(인터프리터)** 라는 실행환경(Runtime Environment)이 실행시 명령문 단위로 기계어로 변환하여 실행한다.\n",
    "    - **장점**\n",
    "        - **OS(Platform) 독립적이다.** 그래서 프로그램을 하나만 구현하면 OS상관없이 실행된다.\n",
    "        - 단 각 OS에는 그 환경에 맞는 Interpreter가 설치되어 있어야 한다.\n",
    "    - **단점**\n",
    "        - 실행하는 도중 기계어로 변환하기 때문에 **속도가 느리다**\n",
    "    - **파이썬은 Interpreted 방식의 언어이다.**       \n",
    "    ![실행방식](images/ch01_02.png)"
   ]
  },
  {
   "cell_type": "markdown",
   "id": "cd8a651d",
   "metadata": {
    "cell_style": "center",
    "slideshow": {
     "slide_type": "slide"
    }
   },
   "source": [
    "# Python(파이썬) \n",
    "![python 로고](images/ch01_python_logo.png)\n",
    "![귀도반로섬](images/ch01_03.png)"
   ]
  },
  {
   "cell_type": "markdown",
   "id": "c596239f",
   "metadata": {
    "cell_style": "center",
    "slideshow": {
     "slide_type": "subslide"
    }
   },
   "source": [
    "- 1991년 네덜란드 프로그래머 귀도 판 로섬(Guido van Rossum) 이 만든 프로그래밍 언어.\n",
    "- 평이한 영어로 이해할 수 있는 코드와, 일상적인 업무에 적용할 수 있고 프로그램 개발시 긴 시간을 필요로 하지 않는 언어를 목표로 개발함.\n",
    "- **파이썬 3**\n",
    "    - 2008년 12월 3일에 기존 2.X 버전과 분리하여 하위호환이 안되는 버전으로 발표됨.\n",
    "    - 2.x와 3.x는 각각 따로 버전업을 하다 파이썬 2 버전은 2020년 1월 이후 지원이 중단되었다."
   ]
  },
  {
   "cell_type": "markdown",
   "id": "299627f6",
   "metadata": {
    "slideshow": {
     "slide_type": "slide"
    }
   },
   "source": [
    "## 파이썬의 특징\n",
    "- **구문의 가독성이 좋다.**\n",
    "    - **코드는 작성하는 것 보다 읽는 경우가 많다.** 는 명제 아래 **코딩 스타일의 일관성을 유지하여 가독성을 높이는 것을 중시한다.**\n",
    "- **유지보수성이 좋다.**\n",
    "    - 파이썬은 배우기 쉽고, 코드를 읽기 쉽기 때문에 유지보수성이 좋다.\n",
    "- Interpreted 언어이므로** OS 독립적인** 프로그램 작성이 가능\n",
    "- 다른 언어와의 **유연한 확장 구조**\n",
    "    - C나 Java 언어로 작성된 함수들을 호출할 수 있다.\n",
    "- **동적타입(Dynamically typed)**\n",
    "    - 변수의 타입을 고정하지 않기 때문에 하나의 변수에 다른타입의 값을 대입할 수 있다.\n",
    "- **방대한 라이브러리**\n",
    "    - 강력한 표준라이브러리 제공\n",
    "    - 잘 갖춰진 생태계\n",
    "        - 풍부한 라이브러리들을 다양한 집단에서 제공하여(3rd party Library) 개발 생산성이 좋다.\n",
    "\n",
    "> 파이썬에서는 라이브러리를 패키지라고도 표현한다."
   ]
  },
  {
   "cell_type": "markdown",
   "id": "a6d916ec",
   "metadata": {
    "slideshow": {
     "slide_type": "slide"
    }
   },
   "source": [
    "## 파이썬으로 할 수있는 것\n",
    "\n",
    "- **업무 자동화**\n",
    "    - 스크립트\n",
    "        - 다른 프로그램이나 system을 제어하는 프로그램을 스크립트라고 한다.\n",
    "        - 파이썬으로 스크립트를 작성하여 컴퓨터로 하는 다양한 작업을 자동화 시킬 수 있다.\n",
    "- **범용 어플리케이션 프로그램 개발**\n",
    "    - GUI 기반의 독립형 어플리케이션 개발\n",
    "- **데이터 과학과 머신러닝**\n",
    "    - 최근에 파이썬이 각광 받는 이유\n",
    "    - numpy, pandas, scikit-learn등 데이터분석과 머신러닝, 딥러닝관련 강렬한 파이썬 라이브러리들이 있다.\n",
    "- **웹 어플리케이션, Open API**\n",
    "    - Django, Flask, Fast API 와 같은 파이썬 기반 웹 프레임워크를 이용하면 웹 어플리케이션을 빠르고 쉽게 개발 할 수 있다.\n",
    "\n",
    "### 파이썬으로 할 수 없는 것\n",
    "- 시스템 프로그래밍(하드웨어 전용 드라이버, 펌웨어등). (C/C++등을 이용)\n",
    "- 모바일 앱 개발\n",
    "    - kivy 라이브러리를 이용하면 가능은 하나 아직 활성화 되지 않았다."
   ]
  },
  {
   "cell_type": "markdown",
   "id": "1c90bdd4",
   "metadata": {},
   "source": [
    "# 파이썬 코드 작성 및 실행\n",
    "\n",
    "## REPL 방식\n",
    "- (Read-Eval-Print loop) \n",
    "- 한 명령문 단위로 실행한다. \n",
    "- 명령문의 처리결과가 있으면 출력해준다.\n",
    "- Python shell (파이썬 기본 shell) 또는 ipython shell 을 이용한다. \n",
    "    - 터미널(명령프롬프트)에서 `python` 실행"
   ]
  },
  {
   "cell_type": "markdown",
   "id": "42867de1",
   "metadata": {},
   "source": [
    "## Script 방식\n",
    "\n",
    "- text 파일에 실행하려는 명령문들을 순서대로 작성한 뒤 한번에 실행 시킨다.\n",
    "    - 코드 작성 파일을 **python script 파일** 이라고 한다.\n",
    "    - Script 파일명의 확장자는 관례적으로 **`.py`** 로 한다. \n",
    "- `python script파일.py` 로 실행\n",
    "- 보통 (파이썬) 프로그래밍용 에디터 (IDE) 를 이용해 작성한다.\n",
    "    - 많이 사용되는 파이썬 IDE\n",
    "        - VS Code (Visual studio code), Pycharm \n",
    "       "
   ]
  }
 ],
 "metadata": {
  "kernelspec": {
   "display_name": "Python 3 (ipykernel)",
   "language": "python",
   "name": "python3"
  },
  "language_info": {
   "codemirror_mode": {
    "name": "ipython",
    "version": 3
   },
   "file_extension": ".py",
   "mimetype": "text/x-python",
   "name": "python",
   "nbconvert_exporter": "python",
   "pygments_lexer": "ipython3",
   "version": "3.12.9"
  },
  "toc": {
   "base_numbering": 1,
   "nav_menu": {},
   "number_sections": true,
   "sideBar": true,
   "skip_h1_title": false,
   "title_cell": "Table of Contents",
   "title_sidebar": "Contents",
   "toc_cell": false,
   "toc_position": {},
   "toc_section_display": true,
   "toc_window_display": false
  },
  "varInspector": {
   "cols": {
    "lenName": 16,
    "lenType": 16,
    "lenVar": 40
   },
   "kernels_config": {
    "python": {
     "delete_cmd_postfix": "",
     "delete_cmd_prefix": "del ",
     "library": "var_list.py",
     "varRefreshCmd": "print(var_dic_list())"
    },
    "r": {
     "delete_cmd_postfix": ") ",
     "delete_cmd_prefix": "rm(",
     "library": "var_list.r",
     "varRefreshCmd": "cat(var_dic_list()) "
    }
   },
   "types_to_exclude": [
    "module",
    "function",
    "builtin_function_or_method",
    "instance",
    "_Feature"
   ],
   "window_display": false
  }
 },
 "nbformat": 4,
 "nbformat_minor": 5
}
