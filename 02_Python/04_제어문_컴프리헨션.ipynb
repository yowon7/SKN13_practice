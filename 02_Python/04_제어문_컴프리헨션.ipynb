{
 "cells": [
  {
   "cell_type": "markdown",
   "id": "8c49cd8e",
   "metadata": {
    "slideshow": {
     "slide_type": "slide"
    }
   },
   "source": [
    "# 제어문(Control flow statement)\n",
    "\n",
    "기본적으로 프로그램은 순차구조를 가진다. 즉 작성한 순서대로 실행이 된다.  \n",
    "이런 실행흐름을 다른 순서로 제어하기 위한 구문을 만드는 문법이 제어문이다.  \n",
    "제어문은 **조건문** 과 **반복문** 두가지 문법이 있다.\n",
    "\n",
    "-   **조건문**\n",
    "    -   if 문\n",
    "-   **반복문**\n",
    "    -   while 문\n",
    "    -   for in 문\n"
   ]
  },
  {
   "cell_type": "markdown",
   "id": "92c502ce",
   "metadata": {
    "slideshow": {
     "slide_type": "slide"
    }
   },
   "source": [
    "# 조건문/분기문 (conditional statement)\n",
    "\n",
    "-   프로그램이 명령문들을 실행하는 도중 특정 순서에서 **조건에 따라 흐름의 나눠져야 하는 경우 사용한다**\n",
    "-   파이썬은 조건문으로 **if문**이 있다.\n",
    "\n",
    "![조건문](images/ch03_01.png)\n",
    "\n",
    "<center>입력 받은 a 의 값이 0인지 여부에 따라 두가지 흐름으로 분기된다.</center>\n"
   ]
  },
  {
   "cell_type": "markdown",
   "id": "2a3c1835",
   "metadata": {
    "slideshow": {
     "slide_type": "subslide"
    }
   },
   "source": [
    "## 구문\n",
    "\n",
    "-   조건이 True일 경우만 특정 구문들을 실행 하는 조건문.\n",
    "\n",
    "```python\n",
    "if 조건:    # 조건은 bool 표현식을 기술한다. 조건선언 다음에 : 으로 선언해서 코드블록을 구분한다.\n",
    "    명령문1  # 조건이 True이면 실행할 구문들을 코드블럭에 기술한다.\n",
    "    명령문2  # 코드 블록은 들여쓰기를 이용해 묶어준다. 보통 공백 4칸으로 들여쓰기를 한다.\n",
    "    ...\n",
    "```\n",
    "\n",
    "> ### 파이썬의 코드블록(code block)\n",
    ">\n",
    "> 코드블록이란 **여러 명령문들을 묶어놓은 것을** 말한다. 코드블록으로 묶이면 실행시 같이 다 실행되고 실행이 안되면 같이 다 실행이 안된다.  \n",
    "> 파이썬에서는 코드블록을 작성할 때 **들여쓰기를 이용해 묶어준다.**  \n",
    "> 같은 칸만큼 들여쓰기를 한 명령문들이 같은 블록으로 묶인다.\n",
    "> 들여쓰기는 관례적으로 **공백 4칸을** 사용한다.\n",
    "\n",
    "> ### pass 키워드(예약어)\n",
    ">\n",
    "> -   빈 구현부를 만들때 사용\n",
    ">     -   제어문, 함수의 body 코드블럭은 비울 수 없다. 반드시 명령문을 한개 이상 작성해야한다.\n",
    ">     -   작성할 내용이 없을 경우 사용하는 키워드로 `pass`를 사용한다.\n"
   ]
  },
  {
   "cell_type": "code",
   "execution_count": 3,
   "id": "9aa311a5",
   "metadata": {
    "slideshow": {
     "slide_type": "fragment"
    }
   },
   "outputs": [
    {
     "name": "stdin",
     "output_type": "stream",
     "text": [
      "정수를 입력하십시오 :  4\n"
     ]
    },
    {
     "name": "stdout",
     "output_type": "stream",
     "text": [
      "종료\n"
     ]
    }
   ],
   "source": [
    "num = int(input(\"정수를 입력하십시오 : \"))\n",
    "\n",
    "#num이 0이면 \"0 입니다.\" 를 출력\n",
    "if num == 0 :\n",
    "    print (\"0 입니다.\")\n",
    "print (\"종료\")"
   ]
  },
  {
   "cell_type": "markdown",
   "id": "09c79c35",
   "metadata": {
    "slideshow": {
     "slide_type": "subslide"
    }
   },
   "source": [
    "-   **조건이 True일 때 False일때 실행 구문이 분기되는 조건문.**\n",
    "\n",
    "```python\n",
    "if 조건:\n",
    "    명령문1_1 # 조건이 True일 경우 실행할 구문들\n",
    "    명령문1_2\n",
    "    ...\n",
    "else:\n",
    "    명령문2_1 # 조건이 False일 경우 실행할 구문들\n",
    "    명령문2_2\n",
    "    ...\n",
    "```\n"
   ]
  },
  {
   "cell_type": "code",
   "execution_count": null,
   "id": "87b51956",
   "metadata": {
    "slideshow": {
     "slide_type": "fragment"
    }
   },
   "outputs": [],
   "source": []
  },
  {
   "cell_type": "markdown",
   "id": "621eae9a",
   "metadata": {
    "slideshow": {
     "slide_type": "subslide"
    }
   },
   "source": [
    "-   **조건이 여러 개인 조건문.**\n",
    "\n",
    "```python\n",
    "if 조건1:\n",
    "    명령문1_1  # 조건1이 True일 경우 실행할 코드블록.\n",
    "    명령문1_2\n",
    "    ...\n",
    "elif 조건2:    # 다음 조건으로 앞의 조건들이 모드 False일 경우 비교한다.\n",
    "    명령문2_1  # 조건2가 True일 경우 실행할 코드블록.\n",
    "    명령문2_2\n",
    "    ...\n",
    "elif 조건3 :\n",
    "    명령문3_1\n",
    "    명령문3_2\n",
    "    ...\n",
    "else:         # 위의 모든 조건이 False일 경우 실행하는 코드블록. 생략 가능하다.\n",
    "    명령문4\n",
    "```\n"
   ]
  },
  {
   "cell_type": "code",
   "execution_count": null,
   "id": "4c6a532d",
   "metadata": {
    "slideshow": {
     "slide_type": "fragment"
    }
   },
   "outputs": [],
   "source": []
  },
  {
   "cell_type": "markdown",
   "id": "2149b728",
   "metadata": {
    "slideshow": {
     "slide_type": "slide"
    }
   },
   "source": [
    "# 반복문 (Loop statement)\n",
    "\n",
    "특정 구문들을 반복해서 실행할 때 사용한다. 동일한 코드를 여러번 반복하거나 값이 일정하게 변하는 코드를 반복할 경우 사용한다.  \n",
    "단순 반복을 처리하는 **while문**과 iterable객체가 제공하는 값들을 반복 조회하는 **for in문** 두가지 문법이 있다.\n",
    "\n",
    "![반복문](images/ch03_02.png)\n",
    "\n",
    "<center>count의 값이 limit의 값보다 크거나 같을때 까지 count의 값을 1증가 후 출력하는 구문을 반복한다. </center>\n"
   ]
  },
  {
   "cell_type": "markdown",
   "id": "b4740a36",
   "metadata": {
    "slideshow": {
     "slide_type": "subslide"
    }
   },
   "source": [
    "## while문\n",
    "\n",
    "-   조건이 True인 동안 구문을 반복해서 실행한다.\n",
    "\n",
    "### 구문\n",
    "\n",
    "```python\n",
    "while 조건:       # 조건은 bool 표현식을 기술한다. 조건선언 다음에 : 으로 선언해서 코드블록을 구분한다\n",
    "    반복할 구문1  # 반복할 구문을 코드블록으로 작성한다.\n",
    "    반복할 구문2\n",
    "    ...\n",
    "```\n"
   ]
  },
  {
   "cell_type": "code",
   "execution_count": 1,
   "id": "6b11bde6",
   "metadata": {
    "slideshow": {
     "slide_type": "fragment"
    }
   },
   "outputs": [
    {
     "name": "stdout",
     "output_type": "stream",
     "text": [
      "1. 안녕하세요\n",
      "2. 안녕하세요\n",
      "3. 안녕하세요\n",
      "4. 안녕하세요\n",
      "5. 안녕하세요\n",
      "6. 안녕하세요\n",
      "7. 안녕하세요\n",
      "8. 안녕하세요\n",
      "9. 안녕하세요\n",
      "10. 안녕하세요\n",
      "종료\n"
     ]
    }
   ],
   "source": [
    "count = 0\n",
    "limit = 10\n",
    "while count < limit :\n",
    "    count += 1\n",
    "    print(f\"{count}. 안녕하세요\")\n",
    "print(\"종료\")"
   ]
  },
  {
   "cell_type": "markdown",
   "id": "04f12e55",
   "metadata": {
    "slideshow": {
     "slide_type": "subslide"
    }
   },
   "source": [
    "## for in 문\n",
    "\n",
    "-   Iterable 객체를 순환조회하는 구문\n",
    "    -   for in문은 Iterable 타입의 객체가 가지고 있는 값들을 하나씩 처리하는 구문을 작성할 때 사용한다.\n",
    "\n",
    "> -   **Iterable**\n",
    ">     -   반복가능한 객체. 반복문(for in)을 이용해 일련의 값들을 반복적으로 각각 제공하는 객체를 말한다.\n",
    ">     -   대표적으로 List, Tuple, Dictionary, Set, 문자열 등이 있다.\n",
    "\n",
    "### 구문\n",
    "\n",
    "```python\n",
    "for 변수 in Iterable: # for in 선언후 : 으로 선언부와 구현부를 나눈다.\n",
    "    반복구문          # Iterable이 반복시 제공하는 값을 가지는 \"변수\"를 이용해 값들을 처리하는 구문을 코드블록으로 작성한다.\n",
    "    반복구문\n",
    "```\n"
   ]
  },
  {
   "cell_type": "code",
   "execution_count": 9,
   "id": "da0ce0f6",
   "metadata": {
    "slideshow": {
     "slide_type": "fragment"
    }
   },
   "outputs": [
    {
     "name": "stdout",
     "output_type": "stream",
     "text": [
      "10\t100\t20\t30\t500\t"
     ]
    }
   ],
   "source": [
    "l = [10, 100, 20, 30, 500]\n",
    "\n",
    "#l의 모든 원소들을 출력 (Iterable(반복 대상) : l, 일괄처리 : 출력)\n",
    "for i in l :\n",
    "    print (i, end=\"\\t\")"
   ]
  },
  {
   "cell_type": "code",
   "execution_count": 10,
   "id": "8892ce98-437b-4725-a84d-c9f477ca852b",
   "metadata": {},
   "outputs": [
    {
     "name": "stdout",
     "output_type": "stream",
     "text": [
      "20\n",
      "200\n",
      "40\n",
      "60\n",
      "1000\n"
     ]
    }
   ],
   "source": [
    "# l의 모든 값들을 두 배로 늘리기 (iterable: l, 일괄처리 : 두배)\n",
    "for u in l:\n",
    "    print(u * 2)"
   ]
  },
  {
   "cell_type": "code",
   "execution_count": 13,
   "id": "30b24141-e308-4e30-8caf-3e8272348bda",
   "metadata": {},
   "outputs": [],
   "source": [
    "# l의 모든 값들을 두 배로 늘리기 (iterable: l, 일괄처리 : 두배) 그리고 그 결과를 l 에 다시 저장하기\n",
    "\n",
    "result = []\n",
    "for n in l:\n",
    "    result.append(n*2)"
   ]
  },
  {
   "cell_type": "code",
   "execution_count": 14,
   "id": "d3b2b70a-2147-46b7-9a9d-6fdf18359ec2",
   "metadata": {},
   "outputs": [
    {
     "name": "stdout",
     "output_type": "stream",
     "text": [
      "[10, 100, 20, 30, 500]\n",
      "[20, 200, 40, 60, 1000]\n"
     ]
    }
   ],
   "source": [
    "print (l)\n",
    "print(result)"
   ]
  },
  {
   "cell_type": "code",
   "execution_count": 18,
   "id": "dbc64e3e-760a-4eb4-a32c-645c5b8279f4",
   "metadata": {},
   "outputs": [
    {
     "name": "stdout",
     "output_type": "stream",
     "text": [
      "10는 3의 배수가 아닙니다\n",
      "100는 3의 배수가 아닙니다\n",
      "20는 3의 배수가 아닙니다\n",
      "30는 3의 배수입니다\n",
      "30 는 3의 배수입니다\n",
      "500는 3의 배수가 아닙니다\n"
     ]
    }
   ],
   "source": [
    "# 3의 배수 찾기 (iterable : l, 일괄처리 : 3의 배수인지 확인)\n",
    "for q in l:\n",
    "    if q % 3 == 0:\n",
    "        print (f\"{q}는 3의 배수입니다\")\n",
    "        print(q,\"는 3의 배수입니다\")\n",
    "    else :\n",
    "        print (f\"{q}는 3의 배수가 아닙니다\")\n"
   ]
  },
  {
   "cell_type": "code",
   "execution_count": 19,
   "id": "84e17cfa-f741-4a92-9638-79711d17e3c5",
   "metadata": {},
   "outputs": [
    {
     "name": "stdout",
     "output_type": "stream",
     "text": [
      "10\n",
      "20\n",
      "30\n"
     ]
    }
   ],
   "source": [
    "s = { 10, 20, 30}\n",
    "for v in s :\n",
    "    print(v)"
   ]
  },
  {
   "cell_type": "code",
   "execution_count": 1,
   "id": "5cd31250-128c-4012-85e8-c93fc3b14abd",
   "metadata": {},
   "outputs": [
    {
     "data": {
      "text/plain": [
       "{'a': 10, 'b': 20, 'c': 30}"
      ]
     },
     "execution_count": 1,
     "metadata": {},
     "output_type": "execute_result"
    }
   ],
   "source": [
    "#dict\n",
    "d = {\"a\":10, \"b\":20, \"c\":30}\n",
    "d"
   ]
  },
  {
   "cell_type": "code",
   "execution_count": 2,
   "id": "3cb76e99-73ba-442c-a687-70a9674bcc04",
   "metadata": {},
   "outputs": [
    {
     "name": "stdout",
     "output_type": "stream",
     "text": [
      "a\n",
      "b\n",
      "c\n"
     ]
    }
   ],
   "source": [
    "for key in d :\n",
    "    print(key)"
   ]
  },
  {
   "cell_type": "code",
   "execution_count": 4,
   "id": "c7195599-becd-490b-b8f4-461d4bde1dbc",
   "metadata": {},
   "outputs": [
    {
     "data": {
      "text/plain": [
       "10"
      ]
     },
     "execution_count": 4,
     "metadata": {},
     "output_type": "execute_result"
    }
   ],
   "source": [
    "# d[\"a\"]\n",
    "v=\"a\"\n",
    "d[v]"
   ]
  },
  {
   "cell_type": "code",
   "execution_count": 5,
   "id": "d2ac32a8-14f2-4fda-8666-102287acbd02",
   "metadata": {},
   "outputs": [
    {
     "name": "stdout",
     "output_type": "stream",
     "text": [
      "a 10\n",
      "b 20\n",
      "c 30\n"
     ]
    }
   ],
   "source": [
    "for key in d :\n",
    "    print(key, d[key])"
   ]
  },
  {
   "cell_type": "code",
   "execution_count": 6,
   "id": "d07e35b2-184f-4db5-873a-ae452275d72e",
   "metadata": {},
   "outputs": [
    {
     "data": {
      "text/plain": [
       "dict_values([10, 20, 30])"
      ]
     },
     "execution_count": 6,
     "metadata": {},
     "output_type": "execute_result"
    }
   ],
   "source": [
    "d.values()"
   ]
  },
  {
   "cell_type": "code",
   "execution_count": 7,
   "id": "82365fcb-c197-4e2e-b49a-4c85149e95fb",
   "metadata": {},
   "outputs": [
    {
     "data": {
      "text/plain": [
       "dict_keys(['a', 'b', 'c'])"
      ]
     },
     "execution_count": 7,
     "metadata": {},
     "output_type": "execute_result"
    }
   ],
   "source": [
    "d.keys()"
   ]
  },
  {
   "cell_type": "code",
   "execution_count": 9,
   "id": "c8496abf-ab9f-46eb-a456-3839305f5b5b",
   "metadata": {},
   "outputs": [
    {
     "name": "stdout",
     "output_type": "stream",
     "text": [
      "10\n",
      "20\n",
      "30\n"
     ]
    }
   ],
   "source": [
    "for v in d.values():\n",
    "    print(v)"
   ]
  },
  {
   "cell_type": "code",
   "execution_count": 13,
   "id": "c02850e5-f3d6-404d-b842-d35dd455f777",
   "metadata": {},
   "outputs": [
    {
     "data": {
      "text/plain": [
       "dict_items([('a', 10), ('b', 20), ('c', 30)])"
      ]
     },
     "execution_count": 13,
     "metadata": {},
     "output_type": "execute_result"
    }
   ],
   "source": [
    "#[('a', 10), ('b', 20), ('c', 30)] [(key, value)]\n",
    "\n",
    "d.items()"
   ]
  },
  {
   "cell_type": "code",
   "execution_count": 14,
   "id": "90c41e9f",
   "metadata": {
    "slideshow": {
     "slide_type": "fragment"
    }
   },
   "outputs": [
    {
     "name": "stdout",
     "output_type": "stream",
     "text": [
      "a 10\n"
     ]
    }
   ],
   "source": [
    "k, v = (\"a\", 10)\n",
    "print(k, v)"
   ]
  },
  {
   "cell_type": "code",
   "execution_count": 15,
   "id": "e3b4a832-f2e3-4f93-a2ac-e0d77b995942",
   "metadata": {},
   "outputs": [
    {
     "name": "stdout",
     "output_type": "stream",
     "text": [
      "a 10\n",
      "b 20\n",
      "c 30\n"
     ]
    }
   ],
   "source": [
    "for (key, value) in d.items():   # 원소가 자료구조일 때 원소 개수만큼 변수를 선언할 수 있음\n",
    "    print(key, value)"
   ]
  },
  {
   "cell_type": "code",
   "execution_count": 17,
   "id": "bbdec134-5f17-478e-bc4a-79bc0c48af79",
   "metadata": {},
   "outputs": [
    {
     "name": "stdout",
     "output_type": "stream",
     "text": [
      "가,나,다,a,b,c,d,e,1,2,3,4,"
     ]
    }
   ],
   "source": [
    "#문자열\n",
    "for char in \"가나다abcde1234\" :\n",
    "    print(char, end=\",\")"
   ]
  },
  {
   "cell_type": "markdown",
   "id": "1f30cd6f",
   "metadata": {
    "slideshow": {
     "slide_type": "subslide"
    }
   },
   "source": [
    "## continue와 break를 이용한 반복문 제어\n",
    "\n",
    "-   **continue**\n",
    "    -   실행 블록에서 continue가 실행되면 현재 반복을 중단하고 다음 반복을 진행한다.\n",
    "    -   특정 조건에서 처리를 멈추고 다음 처리를 반복할 때 사용한다.\n",
    "-   **break**\n",
    "    -   반복문 실행을 중단한다.\n",
    "    -   특정 조건에서 반복문을 중간에 중지할때 사용한다.\n",
    "-   continue와 break는 특정 조건에서 실행되야 하는 경우가 대부분이므로 if문 안에 작성한다.\n"
   ]
  },
  {
   "cell_type": "code",
   "execution_count": 20,
   "id": "8da5956c-eac9-4690-ba0f-9a05108d9938",
   "metadata": {},
   "outputs": [
    {
     "name": "stdout",
     "output_type": "stream",
     "text": [
      "2\n",
      "4\n",
      "6\n",
      "8\n",
      "10\n"
     ]
    }
   ],
   "source": [
    "l = [1, 2, 3, 4, 5, 6, 7, 8, 9, 10]\n",
    "#짝수만 출력\n",
    "\n",
    "for v in l:\n",
    "    if v % 2 == 0 :\n",
    "        print(v)"
   ]
  },
  {
   "cell_type": "code",
   "execution_count": 21,
   "id": "b2b17e20-28a7-4513-8dfa-22d7b15fa936",
   "metadata": {},
   "outputs": [
    {
     "name": "stdout",
     "output_type": "stream",
     "text": [
      "2\n",
      "4\n",
      "6\n",
      "8\n",
      "10\n"
     ]
    }
   ],
   "source": [
    "for v in l :\n",
    "    if v % 2 != 0: #2의 배수가 아니라면\n",
    "        continue   # 홀수는 continue 가 실행이 되고 print 문이 적용되지 않음 \n",
    "    print(v)"
   ]
  },
  {
   "cell_type": "code",
   "execution_count": 24,
   "id": "0cad496b-c47c-407f-b11c-054e9b895d11",
   "metadata": {},
   "outputs": [
    {
     "name": "stdout",
     "output_type": "stream",
     "text": [
      "1\n",
      "2\n",
      "3\n",
      "4\n",
      "5\n",
      "6\n",
      "8\n",
      "9\n",
      "10\n"
     ]
    }
   ],
   "source": [
    "# 7만 빼고 출력\n",
    "for v in l :\n",
    "    if v == 7 :\n",
    "        continue\n",
    "    print(v)"
   ]
  },
  {
   "cell_type": "code",
   "execution_count": 25,
   "id": "d64bb6c9-2d76-4c3f-bb48-8911098712ab",
   "metadata": {},
   "outputs": [
    {
     "name": "stdout",
     "output_type": "stream",
     "text": [
      "1\n",
      "2\n",
      "3\n",
      "4\n",
      "5\n",
      "6\n"
     ]
    }
   ],
   "source": [
    "# 7이면 출력을 중지\n",
    "for v in l :\n",
    "    if v == 7 :\n",
    "        break\n",
    "    print(v)"
   ]
  },
  {
   "cell_type": "code",
   "execution_count": 26,
   "id": "ebba7025-889f-48a9-b5a7-b84eb2e89e89",
   "metadata": {},
   "outputs": [
    {
     "data": {
      "text/plain": [
       "15"
      ]
     },
     "execution_count": 26,
     "metadata": {},
     "output_type": "execute_result"
    }
   ],
   "source": [
    "import random\n",
    "random.randint(10,20)   # 시작(10) ~ 끝(20) 범위 안에 있는 임의의 정수 (난수-random값) 반환"
   ]
  },
  {
   "cell_type": "code",
   "execution_count": 43,
   "id": "f35dad11-7710-42d5-bafb-1fca86fcbd68",
   "metadata": {},
   "outputs": [
    {
     "name": "stdout",
     "output_type": "stream",
     "text": [
      "양수 리스트 :  [12, 82, 23, 39, 3, 35, 5, 75, 93, 88, 100, 98, 89, 100, 68]\n",
      "\n",
      "\n",
      "\n",
      "음수 리스트 :  [-95, -53, -53, -71, -36, -73, -81, -95, -46, -66, -98, -72, -59, -28, -85, -53]\n"
     ]
    }
   ],
   "source": [
    "# -100 ~ 100 범위에 정수 난수를 생성\n",
    "# 생성된 정수 중 양수는 'pos_result' 리스트에 음수는 'neg_result' 리스트에 저장\n",
    "# 0이 생성되면 종료\n",
    "\n",
    "import random\n",
    "\n",
    "pos_result=[]\n",
    "neg_result=[]\n",
    "\n",
    "while True:\n",
    "    i = random.randint(-100, 100)\n",
    "    if i == 0:\n",
    "        break\n",
    "    elif i > 0:\n",
    "        pos_result.append(i)\n",
    "    else :\n",
    "        neg_result.append(i)\n",
    "\n",
    "print(\"양수 리스트 : \", pos_result)\n",
    "print(\"\\n\\n\\n음수 리스트 : \", neg_result)\n"
   ]
  },
  {
   "cell_type": "code",
   "execution_count": 78,
   "id": "3ec0a583-ddf2-4843-ba7d-81bd9dbf5d9d",
   "metadata": {},
   "outputs": [
    {
     "name": "stdout",
     "output_type": "stream",
     "text": [
      "양수 리스트 :  [19, 79, 43, 45, 85, 45, 56, 24, 92, 5, 17, 20, 70, 98, 30, 26, 11, 94, 36, 53, 56, 73]\n",
      "\n",
      "\n",
      "\n",
      "\n",
      " 음수 리스트 :  [-27, -98, -19, -26, -19, -84, -98, -88, -53, -13, -63, -68, -82, -13, -11, -45, -32, -16, -9, -54, -15, -25]\n"
     ]
    }
   ],
   "source": [
    "import random\n",
    "\n",
    "pos_result=[]\n",
    "neg_result=[]\n",
    "\n",
    "\n",
    "i = random.randint(-100, 100)\n",
    "\n",
    "while i != 0 :\n",
    "    if i > 0:\n",
    "        pos_result.append(i)\n",
    "    else :\n",
    "        neg_result.append(i)\n",
    "    i = random.randint (-100,100)\n",
    "\n",
    "print(\"양수 리스트 : \", pos_result)\n",
    "print(\"\\n\\n\\n\\n 음수 리스트 : \", neg_result)\n",
    "    "
   ]
  },
  {
   "cell_type": "code",
   "execution_count": 79,
   "id": "7730b699-8e54-486d-adf3-239656b58137",
   "metadata": {},
   "outputs": [
    {
     "name": "stdout",
     "output_type": "stream",
     "text": [
      "양수 리스트 :  [14, 12, 36, 34, 72, 27, 32, 9, 54, 87, 95, 22]\n",
      "\n",
      "\n",
      "\n",
      "\n",
      " 음수 리스트 :  [-94, -3, -31, -91, -25, -76, -21, -72, -86, -12]\n"
     ]
    }
   ],
   "source": [
    "import random\n",
    "\n",
    "pos_result=[]\n",
    "neg_result=[]\n",
    "\n",
    "# :=  왈러스 연산자 -> 대입 연산자        if, while 조건절에 쓸 수 있음\n",
    "\n",
    "while i := random.randint(-100, 100) :\n",
    "    if i == 0 :\n",
    "        break\n",
    "    elif i > 0 :\n",
    "        pos_result.append(i)\n",
    "    else :\n",
    "        neg_result.append(i)\n",
    "\n",
    "\n",
    "print(\"양수 리스트 : \", pos_result)\n",
    "print(\"\\n\\n\\n\\n 음수 리스트 : \", neg_result)"
   ]
  },
  {
   "cell_type": "code",
   "execution_count": 80,
   "id": "6c94f741-4e33-46b8-bf47-d72289ef27b3",
   "metadata": {},
   "outputs": [
    {
     "name": "stdout",
     "output_type": "stream",
     "text": [
      "양수 리스트 :  [86, 20, 17, 85, 77, 80, 38, 84, 46, 27, 9, 70, 8, 10, 26, 99, 63, 25, 57, 76, 59, 81, 81, 55, 9, 12, 21, 71, 87]\n",
      "\n",
      "\n",
      "\n",
      "\n",
      " 음수 리스트 :  [-18, -96, -14, -69, -40, -84, -63, -8, -70, -3, -87, -20, -4, -23, -49, -21, -3, -19, -22, -28, -3, -24, -54, -87, -54, -89, -55, -7, -70]\n"
     ]
    }
   ],
   "source": [
    "import random\n",
    "\n",
    "pos_result=[]\n",
    "neg_result=[]\n",
    "\n",
    "# :=  왈러스 연산자 -> 대입 연산자        if, while 조건절에 쓸 수 있음\n",
    "\n",
    "while (i := random.randint(-100, 100)) != 0 :\n",
    "    if i > 0 :\n",
    "        pos_result.append(i)\n",
    "    else :\n",
    "        neg_result.append(i)\n",
    "\n",
    "\n",
    "print(\"양수 리스트 : \", pos_result)\n",
    "print(\"\\n\\n\\n\\n 음수 리스트 : \", neg_result)"
   ]
  },
  {
   "cell_type": "code",
   "execution_count": 82,
   "id": "bf36e588-b978-4df2-b9e4-803a8d3b6e31",
   "metadata": {},
   "outputs": [
    {
     "data": {
      "text/plain": [
       "True"
      ]
     },
     "execution_count": 82,
     "metadata": {},
     "output_type": "execute_result"
    }
   ],
   "source": [
    "(a := 20) > 0     # a 에 20을 대입하고 비교"
   ]
  },
  {
   "cell_type": "markdown",
   "id": "dc6099c5",
   "metadata": {
    "slideshow": {
     "slide_type": "slide"
    }
   },
   "source": [
    "## for in 문 연관 내장 함수\n",
    "\n",
    "### range()\n",
    "\n",
    "-   일정한 간격의 연속된 정수를 제공하는 반복가능 객체 생성한다.\n",
    "-   구문\n",
    "    -   `range([시작값], 멈춤값, [증감값])`\n",
    "        -   시작값, 멈춤값, 증감값 모두 정수만 가능하다.\n",
    "        -   시작값 > 멈춤값 이고 증감값이 음수이면 내림차순으로 값을 제공한다.\n",
    "        1. 전달값이 **1개: 멈춤값**.\n",
    "            - 0 ~ (멈춤값-1)까지 1씩 증가하는 정수를 제공\n",
    "        2. 전달값이 **2개: 시작값, 멈춤값**.\n",
    "            - 시작값 ~ (멈춤값-1) 까지 1씩 증가하는 정수 제공\n",
    "        3. 전달값이 **3개: 시작값, 멈춤값, 증감값(간격)**.\n",
    "            - 시작값 ~ (멈춤값-1)까지 증감값만큼 증가하는 정수를 제공.\n"
   ]
  },
  {
   "cell_type": "code",
   "execution_count": 84,
   "id": "352d937b",
   "metadata": {
    "slideshow": {
     "slide_type": "fragment"
    }
   },
   "outputs": [
    {
     "name": "stdout",
     "output_type": "stream",
     "text": [
      "10\n",
      "13\n",
      "16\n",
      "19\n"
     ]
    }
   ],
   "source": [
    "for v in range(10, 20, 3) :\n",
    "    print(v)"
   ]
  },
  {
   "cell_type": "code",
   "execution_count": 86,
   "id": "15dcd94c-005c-412d-a8a1-cab54a1fa1e4",
   "metadata": {},
   "outputs": [
    {
     "name": "stdout",
     "output_type": "stream",
     "text": [
      "0\n",
      "1\n",
      "2\n",
      "3\n",
      "4\n",
      "5\n",
      "6\n",
      "7\n",
      "8\n",
      "9\n",
      "10\n",
      "11\n",
      "12\n",
      "13\n",
      "14\n",
      "15\n",
      "16\n",
      "17\n",
      "18\n",
      "19\n"
     ]
    }
   ],
   "source": [
    "for v in range(20):          # 종료 값\n",
    "    print(v)"
   ]
  },
  {
   "cell_type": "code",
   "execution_count": 87,
   "id": "1f94dbf5-bd93-40b7-aab0-19813b9f28a5",
   "metadata": {},
   "outputs": [
    {
     "data": {
      "text/plain": [
       "[10, 8, 6, 4, 2, 0, -2, -4, -6, -8]"
      ]
     },
     "execution_count": 87,
     "metadata": {},
     "output_type": "execute_result"
    }
   ],
   "source": [
    "#reverse\n",
    "list(range(10, -10, -2))"
   ]
  },
  {
   "cell_type": "code",
   "execution_count": 88,
   "id": "de805d22-1332-4c44-b4dc-e82d66286cdc",
   "metadata": {},
   "outputs": [
    {
     "name": "stdout",
     "output_type": "stream",
     "text": [
      "안녕\n",
      "안녕\n",
      "안녕\n",
      "안녕\n",
      "안녕\n",
      "안녕\n",
      "안녕\n",
      "안녕\n",
      "안녕\n",
      "안녕\n"
     ]
    }
   ],
   "source": [
    "for v in range(10):\n",
    "    print(\"안녕\")"
   ]
  },
  {
   "cell_type": "markdown",
   "id": "5de9d74e",
   "metadata": {
    "slideshow": {
     "slide_type": "subslide"
    }
   },
   "source": [
    "## enumerate()\n",
    "\n",
    "-   구문\n",
    "    -   `enumerate(Iterable,  [, start=정수])`\n",
    "        -   현재 몇번째 값을 제공하는 지(현재 몇번째 반복인지)를 나타내는 **index**와 제공하는 **원소**를 tuple로 묶어서 반환\n",
    "        -   Iterable\n",
    "            -   값을 제공할 Iterable객체\n",
    "        -   start: 정수\n",
    "            -   index 시작 값. 생략하면 0부터 시작한다.\n"
   ]
  },
  {
   "cell_type": "code",
   "execution_count": 90,
   "id": "f5fd08bb-15aa-4425-af53-7b6f546062fe",
   "metadata": {},
   "outputs": [
    {
     "name": "stdout",
     "output_type": "stream",
     "text": [
      "(0, 10)\n",
      "(1, 11)\n",
      "(2, 12)\n",
      "(3, 13)\n",
      "(4, 14)\n",
      "(5, 15)\n",
      "(6, 16)\n",
      "(7, 17)\n",
      "(8, 18)\n",
      "(9, 19)\n"
     ]
    }
   ],
   "source": [
    "l = list(range(10, 20))\n",
    "for v in enumerate(l):     # (index: 몇 번째 반복인지, 값)\n",
    "    print(v)"
   ]
  },
  {
   "cell_type": "code",
   "execution_count": 91,
   "id": "93e792bb-3d74-4189-b35d-49ebba588374",
   "metadata": {},
   "outputs": [
    {
     "name": "stdout",
     "output_type": "stream",
     "text": [
      "0 10\n",
      "1 11\n",
      "2 12\n",
      "3 13\n",
      "4 14\n",
      "5 15\n",
      "6 16\n",
      "7 17\n",
      "8 18\n",
      "9 19\n"
     ]
    }
   ],
   "source": [
    "for idx, value in enumerate(l):\n",
    "    print(idx, value)"
   ]
  },
  {
   "cell_type": "code",
   "execution_count": 93,
   "id": "64fad769-8110-40fe-9679-3f790c430ed6",
   "metadata": {},
   "outputs": [
    {
     "name": "stdout",
     "output_type": "stream",
     "text": [
      "1000 - 중간 결과\n",
      "2000 - 중간 결과\n",
      "3000 - 중간 결과\n",
      "4000 - 중간 결과\n",
      "5000 - 중간 결과\n",
      "6000 - 중간 결과\n",
      "7000 - 중간 결과\n",
      "8000 - 중간 결과\n",
      "9000 - 중간 결과\n",
      "10000 - 중간 결과\n"
     ]
    }
   ],
   "source": [
    "# 10,000 번 반복 처리 -> 중간 결과를 1,000번에 한 번씩 출력\n",
    "\n",
    "for idx, value in enumerate(range(10000), start=1):\n",
    "    # 작업\n",
    "    # 중간 결과를 출력\n",
    "    if idx % 1000 == 0:\n",
    "        print(f\"{idx} - 중간 결과\")"
   ]
  },
  {
   "cell_type": "markdown",
   "id": "f5a5540f",
   "metadata": {
    "slideshow": {
     "slide_type": "subslide"
    }
   },
   "source": [
    "## zip()\n",
    "\n",
    "-   여러 개의 Iterable 객체를 받아 반복시 같은 index의 값끼리 튜플로 묶어 반환한다.\n",
    "-   구문\n",
    "    -   `zip(Iterable1, Iterable2, Iterable3 [, .......])`\n",
    "        -   Iterable 2개이상.전달한다.\n",
    "-   각 Iterable이 제공하는 원소의 개수가가 다를 경우 가장 적은 것의 개수에 맞춰 반복한다.\n"
   ]
  },
  {
   "cell_type": "code",
   "execution_count": 94,
   "id": "c1b365f8-7d01-407f-adce-38ff170c598d",
   "metadata": {},
   "outputs": [
    {
     "name": "stdout",
     "output_type": "stream",
     "text": [
      "('이순신', 30, '서울')\n",
      "('유관순', 40, '인천')\n",
      "('강감찬', 50, '부산')\n"
     ]
    }
   ],
   "source": [
    "name_list = ['이순신', '유관순', '강감찬']\n",
    "age_list = [30, 40, 50]\n",
    "address_list = ['서울', '인천', '부산']\n",
    "\n",
    "# 같은 index가 같은 사람의 데이터\n",
    "# 개별 사람의 데이터를 출력 (이순신, 30, 서울)\n",
    "\n",
    "for v in zip (name_list, age_list, address_list):\n",
    "    print(v)"
   ]
  },
  {
   "cell_type": "markdown",
   "id": "2df89dae",
   "metadata": {
    "slideshow": {
     "slide_type": "subslide"
    }
   },
   "source": [
    "# 컴프리헨션(Comprehension)\n",
    "\n",
    "-   기존 Iterable의 원소들을 이용해서 새로운 자료구조(List, Dictionary, Set)를 생성하는 구문.\n",
    "    -   기존 Iterable의 **원소들을 처리한 결과**나 **특정 조건이 True인 값들을** 새로운 자료구조에 넣을때 사용.\n",
    "    -   결과를 넣을 새로운 자료구조 타입에 따라 다음 세가지가 있다.\n",
    "        -   리스트 컴프리헨션\n",
    "        -   딕셔너리 컴프리헨션\n",
    "        -   셋 컴프리헨션\n",
    "- **튜플 컴프리헨션**은 tuple() 함수를 이용해서 만든다.\n",
    "-   **딕셔너리 컴프리헨션**과 **셋 컴프리헨션**은 파이썬 3 에 새로 추가되었다.\n",
    "-   컴프리헨션 문법은 iterable 을 타입을 넣는 곳에서는 다 적용할 수있다.\n"
   ]
  },
  {
   "cell_type": "code",
   "execution_count": 97,
   "id": "78f953d9-9f54-4145-b921-93483703a6f7",
   "metadata": {
    "slideshow": {
     "slide_type": "fragment"
    }
   },
   "outputs": [],
   "source": [
    "l = [1, 2, 3, 4, 5, 6]"
   ]
  },
  {
   "cell_type": "code",
   "execution_count": 100,
   "id": "91299abf-d281-445b-a1c7-6c425fe7018e",
   "metadata": {
    "slideshow": {
     "slide_type": "fragment"
    }
   },
   "outputs": [
    {
     "data": {
      "text/plain": [
       "[2, 4, 6]"
      ]
     },
     "execution_count": 100,
     "metadata": {},
     "output_type": "execute_result"
    }
   ],
   "source": [
    "# filtering\n",
    "\n",
    "result=[]\n",
    "for v in l :\n",
    "    if v % 2 == 0:\n",
    "        result.append(v)\n",
    "\n",
    "result"
   ]
  },
  {
   "cell_type": "code",
   "execution_count": 101,
   "id": "2f6d373f-50db-4898-9873-030e24bf2647",
   "metadata": {},
   "outputs": [
    {
     "data": {
      "text/plain": [
       "[2, 4, 6, 2, 4, 6, 8, 10, 12]"
      ]
     },
     "execution_count": 101,
     "metadata": {},
     "output_type": "execute_result"
    }
   ],
   "source": [
    "# mapping\n",
    "\n",
    "result2 = []\n",
    "for v in l :\n",
    "    result.append(v * 2)\n",
    "result"
   ]
  },
  {
   "cell_type": "code",
   "execution_count": 103,
   "id": "eda63c4a-d855-46ba-b1f0-308f84a792f3",
   "metadata": {},
   "outputs": [
    {
     "data": {
      "text/plain": [
       "[2, 4, 6, 8, 10, 12]"
      ]
     },
     "execution_count": 103,
     "metadata": {},
     "output_type": "execute_result"
    }
   ],
   "source": [
    "# mapping 을 comprehension 문법으로 구현\n",
    "\n",
    "result3 = [v * 2 for v in l]\n",
    "result3"
   ]
  },
  {
   "cell_type": "code",
   "execution_count": 104,
   "id": "ee8320a3-80fc-491c-9dba-7848e51851ac",
   "metadata": {},
   "outputs": [
    {
     "data": {
      "text/plain": [
       "{2, 4, 6, 8, 10, 12}"
      ]
     },
     "execution_count": 104,
     "metadata": {},
     "output_type": "execute_result"
    }
   ],
   "source": [
    "{v * 2 for v in l}"
   ]
  },
  {
   "cell_type": "code",
   "execution_count": 108,
   "id": "ba6ca45a-4f72-4935-8f6c-a81ee5fde25c",
   "metadata": {},
   "outputs": [
    {
     "data": {
      "text/plain": [
       "{'value1': 2,\n",
       " 'value2': 4,\n",
       " 'value3': 6,\n",
       " 'value4': 8,\n",
       " 'value5': 10,\n",
       " 'value6': 12}"
      ]
     },
     "execution_count": 108,
     "metadata": {},
     "output_type": "execute_result"
    }
   ],
   "source": [
    "{f\"value{v}\" : v * 2 for v in l}"
   ]
  },
  {
   "cell_type": "code",
   "execution_count": 109,
   "id": "1ec8643f-2315-41c8-bd5b-cc2cdb2d8d6f",
   "metadata": {},
   "outputs": [
    {
     "data": {
      "text/plain": [
       "<generator object <genexpr> at 0x0000014D304EDB10>"
      ]
     },
     "execution_count": 109,
     "metadata": {},
     "output_type": "execute_result"
    }
   ],
   "source": [
    "(v * 2 for v in l)  #generator 생성"
   ]
  },
  {
   "cell_type": "code",
   "execution_count": 110,
   "id": "ef2e7ed6-e568-4fc8-9903-5def31906f59",
   "metadata": {},
   "outputs": [
    {
     "data": {
      "text/plain": [
       "(2, 4, 6, 8, 10, 12)"
      ]
     },
     "execution_count": 110,
     "metadata": {},
     "output_type": "execute_result"
    }
   ],
   "source": [
    "tuple(v * 2 for v in l)    #tuple 생성"
   ]
  },
  {
   "cell_type": "code",
   "execution_count": 112,
   "id": "9904d158-5d91-44bc-919a-d016823e9965",
   "metadata": {},
   "outputs": [
    {
     "data": {
      "text/plain": [
       "[2, 4, 6]"
      ]
     },
     "execution_count": 112,
     "metadata": {},
     "output_type": "execute_result"
    }
   ],
   "source": [
    "# filtering 을 comprehension 문법으로 구현\n",
    "\n",
    "result4 = [v for v in l if v % 2 == 0]\n",
    "result4"
   ]
  },
  {
   "cell_type": "code",
   "execution_count": 120,
   "id": "9e7960bf-6c5b-44d3-8658-850952da5d26",
   "metadata": {},
   "outputs": [
    {
     "name": "stdout",
     "output_type": "stream",
     "text": [
      "[5, 7, 3]\n"
     ]
    }
   ],
   "source": [
    "l2 = [\n",
    "    [10, 5, 7],\n",
    "    [3, 50, 4]\n",
    "]\n",
    "result5 = []  #l2 원소 중 홀수만 저장\n",
    "for l in l2:\n",
    "    for i in l:\n",
    "        if i % 2 == 1:\n",
    "            result5.append(i)\n",
    "\n",
    "print(result5)"
   ]
  },
  {
   "cell_type": "code",
   "execution_count": 123,
   "id": "5479562e-7fde-49d4-9f9a-4b38fffb1b83",
   "metadata": {},
   "outputs": [
    {
     "data": {
      "text/plain": [
       "[5, 7, 3]"
      ]
     },
     "execution_count": 123,
     "metadata": {},
     "output_type": "execute_result"
    }
   ],
   "source": [
    "result6 = [v for l in l2 for v in l if v % 2 != 0]\n",
    "result6"
   ]
  },
  {
   "cell_type": "code",
   "execution_count": 126,
   "id": "20d65c62-729c-4aee-8c30-52fe6d77f035",
   "metadata": {},
   "outputs": [
    {
     "data": {
      "text/plain": [
       "[5, 7, 3]"
      ]
     },
     "execution_count": 126,
     "metadata": {},
     "output_type": "execute_result"
    }
   ],
   "source": [
    "result7 = [\n",
    "    v\n",
    "    for l in l2\n",
    "    for v in l\n",
    "    if v % 2 != 0\n",
    "]\n",
    "\n",
    "result7"
   ]
  },
  {
   "cell_type": "markdown",
   "id": "092288d7",
   "metadata": {
    "slideshow": {
     "slide_type": "skip"
    }
   },
   "source": [
    "# TODO\n"
   ]
  },
  {
   "cell_type": "code",
   "execution_count": 115,
   "id": "383a4671-4b89-44c1-a8f0-2d44cf9af68f",
   "metadata": {
    "slideshow": {
     "slide_type": "skip"
    }
   },
   "outputs": [
    {
     "name": "stdin",
     "output_type": "stream",
     "text": [
      "ID를 입력하십시오 :  jjli0729\n"
     ]
    },
    {
     "name": "stdout",
     "output_type": "stream",
     "text": [
      "사용할 수 있습니다.\n"
     ]
    }
   ],
   "source": [
    "# (1) 사용자로 부터 ID를 입력 받은 뒤 입력받은 ID가 5글자 이상이면 \"사용할 수 있습니다.\"를 5글자 미만이면 \"사용할 수 없는 ID입니다.\"를 출력하세요.\n",
    "\n",
    "ID = input(\"ID를 입력하십시오 : \")\n",
    "\n",
    "if len(ID) >= 5 :\n",
    "    print(\"사용할 수 있습니다.\")\n",
    "else :\n",
    "    print(\"사용할 수 없는 ID입니다.\")"
   ]
  },
  {
   "cell_type": "code",
   "execution_count": 1,
   "id": "756db3ff-2f32-44a0-b9cd-2e6fda6a6af1",
   "metadata": {
    "slideshow": {
     "slide_type": "skip"
    }
   },
   "outputs": [
    {
     "name": "stdin",
     "output_type": "stream",
     "text": [
      "도시명을 입력하십시오 :  부산\n"
     ]
    },
    {
     "name": "stdout",
     "output_type": "stream",
     "text": [
      "광역시\n"
     ]
    }
   ],
   "source": [
    "# (2) 사용자로부터 우리나라 도시명을 입력 받은 뒤 입력받은 도시명이 서울이면 \"특별시\"를 인천,부산,광주,대구,대전,울산 이면 \"광역시\"를 나머지는 \"특별시나 광역시가 아닙니다.\"를 출력하세요.\n",
    "\n",
    "kwang = [\"인천\", \"부산\", \"광주\", \"대구\", \"대전\", \"울산\"]\n",
    "\n",
    "city = input(\"도시명을 입력하십시오 : \")\n",
    "city.strip    #공백이 있어도 됨\n",
    "\n",
    "if city == \"서울\":\n",
    "    print(\"특별시\")\n",
    "elif city in kwang :\n",
    "    print(\"광역시\")\n",
    "else :\n",
    "    print(\"특별시나 광역시가 아닙니다.\")"
   ]
  },
  {
   "cell_type": "code",
   "execution_count": 2,
   "id": "55fd5aa3-0b48-47b3-8a37-414ba4ab4d23",
   "metadata": {},
   "outputs": [
    {
     "name": "stdin",
     "output_type": "stream",
     "text": [
      "도시명을 입력하십시오 :  ㄹㄴㅇ\n"
     ]
    },
    {
     "name": "stdout",
     "output_type": "stream",
     "text": [
      "특별시나 광역시가 아닙니다.\n"
     ]
    }
   ],
   "source": [
    "city = input(\"도시명을 입력하십시오 : \")\n",
    "city.strip\n",
    "if city == \"서울\":\n",
    "    print(\"특별시\")\n",
    "elif city in [\"인천\", \"부산\", \"광주\", \"대구\", \"대전\", \"울산\"]:\n",
    "    print(\"광역시\")\n",
    "else : \n",
    "    print(\"특별시나 광역시가 아닙니다.\")"
   ]
  },
  {
   "cell_type": "code",
   "execution_count": 135,
   "id": "ef2ee99a-0be5-40d0-8c20-beb587d4e565",
   "metadata": {
    "slideshow": {
     "slide_type": "skip"
    }
   },
   "outputs": [
    {
     "name": "stdout",
     "output_type": "stream",
     "text": [
      "89.0\n"
     ]
    }
   ],
   "source": [
    "# (3-4)\n",
    "# (3) 아래 리스트의 평균을 구하시오.\n",
    "jumsu = [100, 90, 100, 80, 70, 100, 80, 90, 95, 85]\n",
    "\n",
    "i = 1\n",
    "sum = 0\n",
    "\n",
    "for i in range(10):\n",
    "    sum += jumsu[i]\n",
    "    i += 1\n",
    "ave = sum/10\n",
    "\n",
    "print(ave)"
   ]
  },
  {
   "cell_type": "code",
   "execution_count": 138,
   "id": "756129bd-2a25-4f97-8266-de763b51033e",
   "metadata": {
    "slideshow": {
     "slide_type": "skip"
    }
   },
   "outputs": [
    {
     "name": "stdout",
     "output_type": "stream",
     "text": [
      "0-pass\n",
      "1-pass\n",
      "2-pass\n",
      "3-fail\n",
      "4-fail\n",
      "5-pass\n",
      "6-fail\n",
      "7-pass\n",
      "8-pass\n",
      "9-fail\n"
     ]
    }
   ],
   "source": [
    "# (4) 위 jumsu리스트에서 평균점수이상은 pass, 미만은 fail을 index번호와 함께 출력하시오. (ex: 0-pass, 1-pass, 2-fail)\n",
    "\n",
    "for idx, l in enumerate(jumsu):\n",
    "    if l >= ave :\n",
    "        print(f\"{idx}-pass\")\n",
    "    else :\n",
    "        print(f\"{idx}-fail\")"
   ]
  },
  {
   "cell_type": "code",
   "execution_count": 149,
   "id": "d33b530f-96a0-4db2-87fa-24f3da18806e",
   "metadata": {
    "slideshow": {
     "slide_type": "skip"
    }
   },
   "outputs": [
    {
     "name": "stdout",
     "output_type": "stream",
     "text": [
      "95\n"
     ]
    }
   ],
   "source": [
    "# (5) 아래 리스트 값들 중 최대값을 조회해 출력하시오.\n",
    "\n",
    "#나 혼자 힘으로만 푼 답 -> 틀렸을 것\n",
    "jumsu = [60, 90, 80, 80, 70, 55, 80, 90, 95, 85]\n",
    "l = 0\n",
    "for l in range(len(jumsu)-1) :\n",
    "    i = jumsu[l]\n",
    "    if i < jumsu[l+1]:\n",
    "        i = jumsu[l+1]\n",
    "        l += 1\n",
    "    else:\n",
    "        continue\n",
    "print(i)\n"
   ]
  },
  {
   "cell_type": "code",
   "execution_count": 150,
   "id": "eceb0838-673a-4554-9e86-301a588de003",
   "metadata": {},
   "outputs": [
    {
     "name": "stdout",
     "output_type": "stream",
     "text": [
      "95\n"
     ]
    }
   ],
   "source": [
    "# 맞아보이는 답\n",
    "\n",
    "jumsu = [60, 90, 80, 80, 70, 55, 80, 90, 95, 85]\n",
    "\n",
    "max_val = jumsu[0]  # 처음 값을 기준으로 시작\n",
    "\n",
    "for i in jumsu:\n",
    "    if i > max_val:\n",
    "        max_val = i\n",
    "\n",
    "print(max_val)\n"
   ]
  },
  {
   "cell_type": "code",
   "execution_count": 3,
   "id": "10885e45-4a22-4e37-a1d1-436d13c2d852",
   "metadata": {
    "slideshow": {
     "slide_type": "skip"
    }
   },
   "outputs": [
    {
     "name": "stdin",
     "output_type": "stream",
     "text": [
      "단을 입력하십시오 :  4\n"
     ]
    },
    {
     "name": "stdout",
     "output_type": "stream",
     "text": [
      "4 X 1 = 4\n",
      "4 X 2 = 8\n",
      "4 X 3 = 12\n",
      "4 X 4 = 16\n",
      "4 X 5 = 20\n",
      "4 X 6 = 24\n",
      "4 X 7 = 28\n",
      "4 X 8 = 32\n",
      "4 X 9 = 36\n"
     ]
    }
   ],
   "source": [
    "# (6) 사용자로부터 정수를 입력받아 그 정수 단의 구구단을 출력하시오.\n",
    "# ex)\n",
    "# 단을 입력하시오 : 2\n",
    "# 2 x 1 = 2\n",
    "# 2 x 2 = 4\n",
    "# ..\n",
    "# 2 x 9 = 18\n",
    "\n",
    "i = int(input(\"단을 입력하십시오 : \"))\n",
    "\n",
    "for r in range(1,10):\n",
    "    print(i, \"X\", r, \"=\", i*r)\n",
    "    r += 1"
   ]
  },
  {
   "cell_type": "code",
   "execution_count": 9,
   "id": "bcc79d46-ca8f-49a6-ab1f-efdc96b5b207",
   "metadata": {},
   "outputs": [
    {
     "name": "stdout",
     "output_type": "stream",
     "text": [
      "1 X 1 = 1\t1 X 2 = 2\t1 X 3 = 3\t1 X 4 = 4\t1 X 5 = 5\t1 X 6 = 6\t1 X 7 = 7\t1 X 8 = 8\t1 X 9 = 9\t\n",
      "2 X 1 = 2\t2 X 2 = 4\t2 X 3 = 6\t2 X 4 = 8\t2 X 5 = 10\t2 X 6 = 12\t2 X 7 = 14\t2 X 8 = 16\t2 X 9 = 18\t\n",
      "3 X 1 = 3\t3 X 2 = 6\t3 X 3 = 9\t3 X 4 = 12\t3 X 5 = 15\t3 X 6 = 18\t3 X 7 = 21\t3 X 8 = 24\t3 X 9 = 27\t\n",
      "4 X 1 = 4\t4 X 2 = 8\t4 X 3 = 12\t4 X 4 = 16\t4 X 5 = 20\t4 X 6 = 24\t4 X 7 = 28\t4 X 8 = 32\t4 X 9 = 36\t\n",
      "5 X 1 = 5\t5 X 2 = 10\t5 X 3 = 15\t5 X 4 = 20\t5 X 5 = 25\t5 X 6 = 30\t5 X 7 = 35\t5 X 8 = 40\t5 X 9 = 45\t\n",
      "6 X 1 = 6\t6 X 2 = 12\t6 X 3 = 18\t6 X 4 = 24\t6 X 5 = 30\t6 X 6 = 36\t6 X 7 = 42\t6 X 8 = 48\t6 X 9 = 54\t\n",
      "7 X 1 = 7\t7 X 2 = 14\t7 X 3 = 21\t7 X 4 = 28\t7 X 5 = 35\t7 X 6 = 42\t7 X 7 = 49\t7 X 8 = 56\t7 X 9 = 63\t\n",
      "8 X 1 = 8\t8 X 2 = 16\t8 X 3 = 24\t8 X 4 = 32\t8 X 5 = 40\t8 X 6 = 48\t8 X 7 = 56\t8 X 8 = 64\t8 X 9 = 72\t\n",
      "9 X 1 = 9\t9 X 2 = 18\t9 X 3 = 27\t9 X 4 = 36\t9 X 5 = 45\t9 X 6 = 54\t9 X 7 = 63\t9 X 8 = 72\t9 X 9 = 81\t\n"
     ]
    }
   ],
   "source": [
    "for i in range(1, 10):\n",
    "    for j in range(1, 10):\n",
    "        print (i, \"X\", j, \"=\", i*j, end='\\t')\n",
    "        j += 1\n",
    "    i += 1\n",
    "    print()"
   ]
  },
  {
   "cell_type": "code",
   "execution_count": 160,
   "id": "c8e4ebf2-37b0-42b2-9875-3027c0dce8d1",
   "metadata": {
    "slideshow": {
     "slide_type": "skip"
    }
   },
   "outputs": [
    {
     "data": {
      "text/plain": [
       "[(10, 100),\n",
       " (30, 300),\n",
       " (70, 700),\n",
       " (5, 50),\n",
       " (5, 50),\n",
       " (120, 1200),\n",
       " (700, 7000),\n",
       " (1, 10),\n",
       " (35, 350),\n",
       " (35, 350)]"
      ]
     },
     "execution_count": 160,
     "metadata": {},
     "output_type": "execute_result"
    }
   ],
   "source": [
    "# 컴프리헨션\n",
    "\n",
    "\n",
    "# (7) 다음 리스트의 원소들에 10배한 값을 (원래값, 10배값) 의 튜플 묶음으로 가지는 리스트를 만드시오 (리스트 컴프리헨션 이용)\n",
    "# Ex) [(10,100), (30,300), .., (35, 350)]\n",
    "lst = [10, 30, 70, 5, 5, 120, 700, 1, 35, 35]\n",
    "\n",
    "\n",
    "result = [(v, 10*v) for v in lst]\n",
    "result"
   ]
  },
  {
   "cell_type": "code",
   "execution_count": 163,
   "id": "4a44a488-2537-4667-a75d-f5589f7ab515",
   "metadata": {
    "slideshow": {
     "slide_type": "skip"
    }
   },
   "outputs": [
    {
     "data": {
      "text/plain": [
       "[3, 33, 21, 33, 60, 120]"
      ]
     },
     "execution_count": 163,
     "metadata": {},
     "output_type": "execute_result"
    }
   ],
   "source": [
    "# (8) 다음 리스트가 가진 값들 중 3의 배수만 가지는 리스트를 만드시오. (리스트 컴프리헨션 이용)\n",
    "lst2 = [3, 20, 33, 21, 33, 8, 11, 10, 7, 17, 60, 120, 2]\n",
    "\n",
    "result2 = [\n",
    "    v\n",
    "    for v in lst2\n",
    "    if v % 3 == 0\n",
    "]\n",
    "\n",
    "result2"
   ]
  },
  {
   "cell_type": "code",
   "execution_count": 168,
   "id": "a5904fb1-16d2-4d9a-88f1-cd74460c7f7b",
   "metadata": {
    "slideshow": {
     "slide_type": "skip"
    }
   },
   "outputs": [
    {
     "data": {
      "text/plain": [
       "['a.exe', 'function.exe', 'b.exe', 'run.exe']"
      ]
     },
     "execution_count": 168,
     "metadata": {},
     "output_type": "execute_result"
    }
   ],
   "source": [
    "# (9)) 다음 파일이름들을 담은 리스트에서 확장자가 exe인 파일만 골라서 새로운 리스트에 담으시오.(string의 endswith()함수 이용)\n",
    "file_names = [\n",
    "    \"test.txt\",\n",
    "    \"a.exe\",\n",
    "    \"jupyter.bat\",\n",
    "    \"function.exe\",\n",
    "    \"b.exe\",\n",
    "    \"cat.jpg\",\n",
    "    \"dog.png\",\n",
    "    \"run.exe\",\n",
    "    \"i.dll\",\n",
    "]\n",
    "\n",
    "result3 = [\n",
    "    v\n",
    "    for v in file_names\n",
    "    if v.endswith(\"exe\")\n",
    "]\n",
    "\n",
    "result3"
   ]
  },
  {
   "cell_type": "code",
   "execution_count": 172,
   "id": "d7b044ce-642f-400d-9896-502b852d64be",
   "metadata": {
    "slideshow": {
     "slide_type": "skip"
    }
   },
   "outputs": [
    {
     "data": {
      "text/plain": [
       "['mystroy.txt', 'jupyter.bat', 'function.exe']"
      ]
     },
     "execution_count": 172,
     "metadata": {},
     "output_type": "execute_result"
    }
   ],
   "source": [
    "# (10) 다음 중 10글자 이상인 파일명(확장자포함)만 가지는 리스트를 만드시오.\n",
    "file_names = [\n",
    "    \"mystroy.txt\",\n",
    "    \"a.exe\",\n",
    "    \"jupyter.bat\",\n",
    "    \"function.exe\",\n",
    "    \"b.exe\",\n",
    "    \"cat.jpg\",\n",
    "    \"dog.png\",\n",
    "    \"run.exe\",\n",
    "    \"i.dll\",\n",
    "]\n",
    "\n",
    "result4 = [\n",
    "    v\n",
    "    for v in file_names\n",
    "    if len(v) >= 10\n",
    "]\n",
    "\n",
    "result4"
   ]
  },
  {
   "cell_type": "code",
   "execution_count": null,
   "id": "3a295b3f-ca55-4e6b-9a98-71b9efa95201",
   "metadata": {},
   "outputs": [],
   "source": []
  },
  {
   "cell_type": "code",
   "execution_count": null,
   "id": "52374647-49fa-40ea-9497-a53792247ef7",
   "metadata": {},
   "outputs": [],
   "source": []
  }
 ],
 "metadata": {
  "kernelspec": {
   "display_name": "Python 3 (ipykernel)",
   "language": "python",
   "name": "python3"
  },
  "language_info": {
   "codemirror_mode": {
    "name": "ipython",
    "version": 3
   },
   "file_extension": ".py",
   "mimetype": "text/x-python",
   "name": "python",
   "nbconvert_exporter": "python",
   "pygments_lexer": "ipython3",
   "version": "3.12.9"
  },
  "toc": {
   "base_numbering": 1,
   "nav_menu": {},
   "number_sections": true,
   "sideBar": true,
   "skip_h1_title": false,
   "title_cell": "Table of Contents",
   "title_sidebar": "Contents",
   "toc_cell": false,
   "toc_position": {},
   "toc_section_display": true,
   "toc_window_display": false
  },
  "varInspector": {
   "cols": {
    "lenName": 16,
    "lenType": 16,
    "lenVar": 40
   },
   "kernels_config": {
    "python": {
     "delete_cmd_postfix": "",
     "delete_cmd_prefix": "del ",
     "library": "var_list.py",
     "varRefreshCmd": "print(var_dic_list())"
    },
    "r": {
     "delete_cmd_postfix": ") ",
     "delete_cmd_prefix": "rm(",
     "library": "var_list.r",
     "varRefreshCmd": "cat(var_dic_list()) "
    }
   },
   "types_to_exclude": [
    "module",
    "function",
    "builtin_function_or_method",
    "instance",
    "_Feature"
   ],
   "window_display": false
  }
 },
 "nbformat": 4,
 "nbformat_minor": 5
}
