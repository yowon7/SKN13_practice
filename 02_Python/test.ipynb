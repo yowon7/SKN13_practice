{
 "cells": [
  {
   "cell_type": "markdown",
   "id": "d4452da0-5496-4fcf-842e-c25a86870a46",
   "metadata": {},
   "source": [
    "# 아 여행가고 싶다\n",
    "- 일본\n",
    "- 홍콩\n",
    "- 대만\n",
    "- 이탈리아\n",
    "- 프랑스\n",
    "- 독일\n",
    "- **영국**\n",
    "- *상하이*\n",
    "\n",
    "### 또 어디를 가면 좋을까? ###"
   ]
  },
  {
   "cell_type": "code",
   "execution_count": null,
   "id": "9261515e-e5ee-4588-80cb-5b93f77947df",
   "metadata": {},
   "outputs": [],
   "source": []
  }
 ],
 "metadata": {
  "kernelspec": {
   "display_name": "Python 3 (ipykernel)",
   "language": "python",
   "name": "python3"
  },
  "language_info": {
   "codemirror_mode": {
    "name": "ipython",
    "version": 3
   },
   "file_extension": ".py",
   "mimetype": "text/x-python",
   "name": "python",
   "nbconvert_exporter": "python",
   "pygments_lexer": "ipython3",
   "version": "3.12.9"
  }
 },
 "nbformat": 4,
 "nbformat_minor": 5
}
