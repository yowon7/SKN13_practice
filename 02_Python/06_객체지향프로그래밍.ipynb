{
 "cells": [
  {
   "cell_type": "markdown",
   "metadata": {
    "slideshow": {
     "slide_type": "slide"
    }
   },
   "source": [
    "# 객체지향 프로그래밍 (Object Oriented Programming)\n",
    "\n",
    "데이터를 객체(object)로 취급하며, 이러한 객체가 바로 프로그래밍의 구현의 중심인 프로그래밍 개발 방식.\n"
   ]
  },
  {
   "cell_type": "markdown",
   "metadata": {},
   "source": [
    "## Class(클래스) 정의\n",
    "\n",
    "-   객체지향 언어에서 데이터인 **객체(instance)** 를 어떻게 구성할지 정의한 설계도/템플릿을 **클래스** 라고 한다.\n",
    "-   Class에는 다음 두가지를 정의한다.\n",
    "    1. **Attribute/State**\n",
    "        - 객체의 속성, 상태 값을 저장할 변수\n",
    "        - 보통 class로 정의하는 data는 여러개의 값들로 구성된다. 이 값들을 저장하는 변수를 attribute/state 라고 한다.\n",
    "            - **고객**: 고객ID, 패스워드, 이름, email, 주소, 전화번호, point ...\n",
    "            - **제품**: 제품번호, 이름, 제조사, 가격, 재고량\n",
    "        - Instance 변수라고 한다.\n",
    "        - 개별 객체는 각각의 instance변수를 가진다.\n",
    "    2. **behavior**\n",
    "        - 객체의 state 값을 처리하는 함수.\n",
    "        - instance method 라고 한다.\n",
    "        - 개별 객체(instance)들은 동일한 instance 메소드를 이용해 자신의 instance 변수의 값들을 처리한다.\n",
    "-   객체지향 프로그래밍이란 Data와 Data를 처리하는 함수를 분리하지 않고 하나로 묶어 모듈로 개발하는 방식이다. 그래서 어떤 값들과 어떤 함수를 묶을 것인지를 class로 정의한다. 그리고 그 class로 부터 **객체(instance)** 를 생성(instantiate)해서 사용한다.\n",
    "-   **class는 Data type이고 instance는 value 이다.**\n",
    "    > 파이썬에서는 class에 정의된 instance변수와 method를 합쳐 **Attribute** 라고 표현한다.\n",
    "\n",
    "### class 정의\n",
    "\n",
    "```python\n",
    "class 클래스이름:  #선언부\n",
    "    #클래스 구현\n",
    "    #메소드들을 정의\n",
    "```\n",
    "\n",
    "-   **클래스 이름의 관례**\n",
    "    -   **파스칼 표기법** 사용-각 단어의 첫글자는 대문자 나머진 소문자로 정의한다.\n",
    "    -   ex) Person, Student, HighSchoolStudent\n"
   ]
  },
  {
   "cell_type": "markdown",
   "metadata": {
    "slideshow": {
     "slide_type": "fragment"
    }
   },
   "source": [
    "## Instance(객체)\n",
    "\n",
    "-   class로 부터 생성된 값(value)로 클래스에서 정의한 attribute를 behavior를 이용해 처리한다.\n",
    "\n",
    "### 클래스로부터 객체(Instance) 생성\n",
    "\n",
    "```python\n",
    "변수 = 클래스이름()\n",
    "```"
   ]
  },
  {
   "cell_type": "code",
   "execution_count": 2,
   "metadata": {},
   "outputs": [],
   "source": [
    "# 클래스 정의 -> 데이터타입을 정의\n",
    "class Person : \n",
    "    pass"
   ]
  },
  {
   "cell_type": "code",
   "execution_count": 3,
   "metadata": {
    "slideshow": {
     "slide_type": "fragment"
    }
   },
   "outputs": [],
   "source": [
    "# 클래스로부터 객체(instance) 를 생성 -> 값을 생성\n",
    "p = Person()"
   ]
  },
  {
   "cell_type": "code",
   "execution_count": 4,
   "metadata": {},
   "outputs": [],
   "source": [
    "p2 = Person()"
   ]
  },
  {
   "cell_type": "code",
   "execution_count": null,
   "metadata": {},
   "outputs": [],
   "source": []
  },
  {
   "cell_type": "markdown",
   "metadata": {
    "slideshow": {
     "slide_type": "subslide"
    }
   },
   "source": [
    "## Attribute(속성) - instance 변수\n",
    "\n",
    "-   attribute는 객체의 데이터, 객체를 구성하는 값들, 객체의 상태값들을 말한다.\n",
    "-   값을 저장하므로 변수로 정의한다. 그래서 **instance 변수** 라고 한다.\n",
    "\n",
    "### 객체에 속성을 추가, 조회\n",
    "\n",
    "-   **객체의 속성 추가(값 변경)**\n",
    "    1. Initializer(생성자)를 통한 추가\n",
    "        - 객체에 처음 attribute를 정의한다. 이것을 **초기화** 라고 한다.\n",
    "    2. 객체.속성명 = 값 (추가/변경)\n",
    "    3. 메소드를 통한 추가/변경\n",
    "        - 2, 3번 방식은 initializer에서 초기화한 attribute를 변경한다.\n",
    "-   **속성 값 조회**\n",
    "    -   `객체.속성명`\n",
    "-   `객체.___dict__`\n",
    "    -   객체가 가지고 있는 Attribute들을 dictionary로 반환한다.\n"
   ]
  },
  {
   "cell_type": "code",
   "execution_count": 5,
   "metadata": {},
   "outputs": [],
   "source": [
    "# initializer 를 이용해 instance 변수(속성) 초기화\n",
    "## 같은 클래스에서 생성된 모든 값들 (instace) 이 공통적으로 가져야 하는 instace 변수들을 정의"
   ]
  },
  {
   "cell_type": "code",
   "execution_count": 19,
   "metadata": {},
   "outputs": [],
   "source": [
    "class Person1 :\n",
    "\n",
    "    def __init__(self, name, age, address = None) :\n",
    "        \"\"\"\n",
    "        Args :\n",
    "            self(Person1) - 생성중인 객체(instance)\n",
    "            name, age, address (추가 파라미터) - instance 변수에 저장할 값\n",
    "        \"\"\"\n",
    "        self.name = name\n",
    "        self.age = age\n",
    "        self.address = address"
   ]
  },
  {
   "cell_type": "code",
   "execution_count": 20,
   "metadata": {},
   "outputs": [
    {
     "ename": "TypeError",
     "evalue": "Person1.__init__() missing 2 required positional arguments: 'name' and 'age'",
     "output_type": "error",
     "traceback": [
      "\u001b[31m---------------------------------------------------------------------------\u001b[39m",
      "\u001b[31mTypeError\u001b[39m                                 Traceback (most recent call last)",
      "\u001b[36mCell\u001b[39m\u001b[36m \u001b[39m\u001b[32mIn[20]\u001b[39m\u001b[32m, line 1\u001b[39m\n\u001b[32m----> \u001b[39m\u001b[32m1\u001b[39m p = \u001b[43mPerson1\u001b[49m\u001b[43m(\u001b[49m\u001b[43m)\u001b[49m \u001b[38;5;66;03m# __init__() 호출   => self 나 address 에서는 오류가 생기지 않는데, name 과 age를 필요로 함\u001b[39;00m\n",
      "\u001b[31mTypeError\u001b[39m: Person1.__init__() missing 2 required positional arguments: 'name' and 'age'"
     ]
    }
   ],
   "source": [
    "p = Person1() # __init__() 호출   => self 나 address 에서는 오류가 생기지 않는데, name 과 age를 필요로 함"
   ]
  },
  {
   "cell_type": "code",
   "execution_count": 21,
   "metadata": {},
   "outputs": [],
   "source": [
    "p = Person1(\"홍길동\", 20) # __init__() 호출"
   ]
  },
  {
   "cell_type": "code",
   "execution_count": 22,
   "metadata": {},
   "outputs": [
    {
     "name": "stdout",
     "output_type": "stream",
     "text": [
      "홍길동 20 None\n"
     ]
    }
   ],
   "source": [
    "print(p.name, p.age, p.address)"
   ]
  },
  {
   "cell_type": "code",
   "execution_count": 23,
   "metadata": {},
   "outputs": [],
   "source": [
    "p2 = Person1(\"이순신\", 30, \"서울시\")"
   ]
  },
  {
   "cell_type": "code",
   "execution_count": 24,
   "metadata": {},
   "outputs": [
    {
     "name": "stdout",
     "output_type": "stream",
     "text": [
      "이순신 30 서울시\n"
     ]
    }
   ],
   "source": [
    "print(p2.name, p2.age, p2.address)"
   ]
  },
  {
   "cell_type": "code",
   "execution_count": null,
   "metadata": {},
   "outputs": [],
   "source": []
  },
  {
   "cell_type": "markdown",
   "metadata": {
    "slideshow": {
     "slide_type": "subslide"
    }
   },
   "source": [
    "### 생성자(Initializer)\n",
    "\n",
    "-   객체를 생성할 때 호출되는 특수메소드로 attribute들 초기화에 하는 코드를 구현한다.\n",
    "    -   Initializer를 이용해 초기화하는 Attribute들이 그 클래스에서 생성된 객체들이 가지는 Attribute가 된다.\n",
    "    -   객체 생성후 새로운 attribute들을 추가 할 수 있지만 하지 않는 것이 좋다.\n",
    "-   구문\n",
    "\n",
    "```python\n",
    "def __init__(self [,매개변수들 선언]):  #[ ] 옵션.\n",
    "    # 구현 -> attribute(instance변수) 초기화\n",
    "    self.속성명 = 값\n",
    "```\n",
    "\n",
    "> 변수 초기화: 처음 변수 만들어서 처음 값 대입하는 것.\n"
   ]
  },
  {
   "cell_type": "markdown",
   "metadata": {
    "slideshow": {
     "slide_type": "fragment"
    }
   },
   "source": []
  },
  {
   "cell_type": "code",
   "execution_count": null,
   "metadata": {
    "slideshow": {
     "slide_type": "fragment"
    }
   },
   "outputs": [],
   "source": []
  },
  {
   "cell_type": "markdown",
   "metadata": {
    "slideshow": {
     "slide_type": "subslide"
    }
   },
   "source": [
    "### Instance 메소드(method)\n",
    "\n",
    "-   객체가 제공하는 기능\n",
    "-   객체의 attribute 값을 처리하는 기능을 구현한다.\n",
    "-   구문\n",
    "\n",
    "```python\n",
    "def 이름(self [, 매개변수들 선언]):\n",
    "    # 구현\n",
    "    # attribute 사용(조회/대입)\n",
    "    self.attribute\n",
    "```\n",
    "\n",
    "-   self 매개변수 - 메소드를 소유한 객체를 받는 변수 - 호출할 때 전달하는 argument를 받는 매개변수는 두번째 부터 선언한다.<br><br>\n",
    "    ![self](images/ch06_01.png)\n",
    "-   **메소드 호출**\n",
    "    -   `객체.메소드이름([argument, ...])`\n",
    "\n",
    "### instance 메소드의 self parameter\n",
    "\n",
    "-   메소드는 반드시 한개 이상의 parameter를 선언해야 하고 그 첫번째 parameter는 **관례적으로** 변수명을 `self`로 한다.\n",
    "-   메소드 호출시 그 메소드를 소유한 instance가 self parameter에 할당된다.\n",
    "    -   메소드 안에서 self는 instance를 가리키며 그 instance에 정의된 attribute나 method를 호출 할 때 사용한다.\n",
    "-   **Initializer의 self**\n",
    "    -   현재 만들어 지고 있는 객체를 받는다.\n",
    "-   **메소드의 self**\n",
    "    -   메소드를 소유한 객체를 받는다.\n",
    "-   Caller에서 생성자/메소드에 전달된 argument들을 받을 parameter는 두번째 변수부터 선언한다.\n"
   ]
  },
  {
   "cell_type": "code",
   "execution_count": null,
   "metadata": {
    "slideshow": {
     "slide_type": "fragment"
    }
   },
   "outputs": [],
   "source": []
  },
  {
   "cell_type": "code",
   "execution_count": null,
   "metadata": {},
   "outputs": [],
   "source": []
  },
  {
   "cell_type": "markdown",
   "metadata": {
    "slideshow": {
     "slide_type": "slide"
    }
   },
   "source": [
    "## 상속 (Inheritance)\n",
    "\n",
    "-   기존 클래스를 확장하여 새로운 클래스를 구현한다.\n",
    "    -   생성된 객체(instance)가 기존 클래스에 정의된 Attribute나 method를 사용할 수있고 그 외의 추가적인 attribute와 method들을 가질 수 있는 클래스를 구현하는 방법.\n",
    "    -   같은 category의 클래스들을 하나로 묶어주는 역할을 한다.\n",
    "-   **기반(Base) 클래스, 상위(Super) 클래스, 부모(Parent) 클래스**\n",
    "    -   물려 주는 클래스.\n",
    "    -   상속하는 클래스에 비해 더 추상적인 클래스가 된다.\n",
    "    -   상속하는 클래스의 데이터 타입이 된다.\n",
    "-   **파생(Derived) 클래스, 하위(Sub) 클래스, 자식(Child) 클래스**\n",
    "    -   상속하는 클래스.\n",
    "    -   상속을 해준 클래스 보다 좀더 구체적인 클래스가 된다.\n",
    "-   상위 클래스와 하위 클래스는 계층관계를 이룬다.\n",
    "    -   상위 클래스는 하위 클래스 객체의 타입이 된다.\n",
    "-   다중상속\n",
    "    -   하나의 클래스가 여러 클래스를 상속받아 정의 하는 것을 다중상속이라고 하며 **파이썬은 다중상속이 가능하다.**\n",
    "-   MRO (Method Resolution Order)\n",
    "    -   다중상속시 메소드 호출할 때 그 메소드를 찾는 순서.\n",
    "    1. 자기 자신\n",
    "    2. 상위클래스(하위에서 상위로 올라간다)\n",
    "        - 다중상속의 경우 먼저 선언한 클래스 부터 찾는다. (왼쪽->오른쪽)\n",
    "-   MRO 순서 조회\n",
    "    -   Class이름.mro()\n",
    "-   `object` class\n",
    "    -   모든 클래스의 최상위 클래스\n",
    "    -   상속 하지 않은 클래스는 `object` 를 상속받는다.\n",
    "    -   special method, special attribute 를 정의 하고 있다.\n",
    "\n",
    "```python\n",
    "class Parent1:\n",
    "    ...\n",
    "\n",
    "class Parent2:\n",
    "    ...\n",
    "\n",
    "class Sub(Parent1, Parent1):\n",
    "    ...\n",
    "```\n"
   ]
  },
  {
   "cell_type": "code",
   "execution_count": null,
   "metadata": {},
   "outputs": [],
   "source": []
  },
  {
   "cell_type": "code",
   "execution_count": null,
   "metadata": {
    "slideshow": {
     "slide_type": "fragment"
    }
   },
   "outputs": [],
   "source": []
  },
  {
   "cell_type": "markdown",
   "metadata": {
    "slideshow": {
     "slide_type": "subslide"
    }
   },
   "source": [
    "### Method Overriding (메소드 재정의)\n",
    "\n",
    "상위 클래스에 정의한 메소드의 구현부를 하위 클래스에서 다시 구현하는 것.\n",
    "상위 클래스는 모든 하위 클래스들에 적용할 수 있는 추상적인 구현 밖에는 못한다.  \n",
    "하위 클래스에서 그 기능을 자신에 맞게 좀 더 구체적으로 재구현할 수 있게 해주는 것을 Method Overriding이라고 한다.\n",
    "\n",
    "-   방법: 메소드 선언은 동일하게 하고 구현부는 새롭게 구현한다.\n",
    "\n",
    "### super() 내장함수\n",
    "\n",
    "-   하위 클래스에서 **상위 클래스의 instance를** 사용할 수있도록 해주는 함수. 상위클래스에 정의된 instance 변수, 메소드를 호출할 때 사용한다.\n",
    "-   구문\n",
    "\n",
    "```python\n",
    "super().메소드명()\n",
    "```\n",
    "\n",
    "-   상위 클래스의 Instance 메소드를 호출할 때 – super().메소드()\n",
    "    -   특히 method overriding을 한 하위 클래스에서 상위 클래스의 원본 메소드를 호출 할 경우 반드시 `super().메소드() `형식으로 호출해야 한다.\n",
    "-   메소드에서\n",
    "    -   self.xxxx : 같은 클래스에 정의된 메소드나 attribute(instance 변수) 호출\n",
    "    -   super().xxxx : 부모클래스에 정의된 메소드나 attribute(부모객체의 attribute) 호출\n"
   ]
  },
  {
   "cell_type": "code",
   "execution_count": null,
   "metadata": {
    "slideshow": {
     "slide_type": "fragment"
    }
   },
   "outputs": [],
   "source": []
  },
  {
   "cell_type": "markdown",
   "metadata": {
    "slideshow": {
     "slide_type": "slide"
    }
   },
   "source": [
    "## 객체 관련 유용한 내장 함수, 특수 변수\n",
    "\n",
    "-   **`isinstance(객체, 클래스이름-datatype)`** : bool\n",
    "    -   객체가 두번째 매개변수로 지정한 클래스의 타입이면 True, 아니면 False 반환\n",
    "    -   여러개의 타입여부를 확인할 경우 class이름(type)들을 **튜플(tuple)로** 묶어 준다.\n",
    "    -   상위 클래스는 하위 클래스객체의 타입이 되므로 객체와 그 객체의 상위 클래스 비교시 True가 나온다.\n",
    "-   **`객체.__dict__`**\n",
    "    -   객체가 가지고 있는 Attribute 변수들과 대입된 값을 dictionary에 넣어 반환\n"
   ]
  },
  {
   "cell_type": "markdown",
   "metadata": {
    "slideshow": {
     "slide_type": "slide"
    }
   },
   "source": [
    "## 특수 메소드(Special method)\n",
    "\n",
    "### 특수 메소드란\n",
    "\n",
    "-   파이썬 실행환경(Python runtime)이 객체와 관련해서 특정 상황 발생하면 호출 하도록 정의한 메소드들. 그 특정상황에서 처리해야 할 일이 있으면 구현을 재정의 한다.\n",
    "    -   객체에 특정 기능들을 추가할 때 사용한다.\n",
    "    -   정의한 메소드와 그것을 호출하는 함수가 다르다.\n",
    "        -   ex) `__init__()` => **객체 생성할 때** 호출 된다.\n",
    "-   메소드 명이 더블 언더스코어로 시작하고 끝난다.\n",
    "    -   ex) `__init__(), __str__()`\n",
    "-   매직 메소드(Magic Method), 던더(DUNDER) 메소드라고도 한다.\n",
    "-   특수메소드 종류\n",
    "    -   https://docs.python.org/ko/3/reference/datamodel.html#special-method-names\n"
   ]
  },
  {
   "cell_type": "markdown",
   "metadata": {
    "slideshow": {
     "slide_type": "subslide"
    }
   },
   "source": [
    "### 주요 특수메소드\n",
    "\n",
    "-   **`__init__(self [, …])`**\n",
    "    -   Initializer\n",
    "    -   객체 생성시 호출 된다.\n",
    "    -   객체 생성시 Attribute의 값들을 초기화하는 것을 구현한다.\n",
    "    -   self 변수로 받은 instance에 Attribute를 설정한다.\n",
    "-   **`__call__(self [, …])`**\n",
    "-   객체를 함수처럼 호출 하면 실행되는 메소드\n",
    "    -   Argument를 받을 Parameter 변수는 self 변수 다음에 필요한대로 선언한다.\n",
    "    -   처리결과를 반환하도록 구현할 경우 `return value` 구문을 넣는다. (필수는 아니다.)\n"
   ]
  },
  {
   "cell_type": "markdown",
   "metadata": {
    "slideshow": {
     "slide_type": "subslide"
    }
   },
   "source": [
    "-   **`__str__(self)`**\n",
    "    -   Instance(객체)의 Attribute들을 묶어서 문자열로 반환한다.\n",
    "    -   내장 함수 **str(객체)** 호출할 때 이 메소드가 호출 된다.\n",
    "        -   str() 호출할 때 객체에 `__str__()`의 정의 안되 있으면 `__repr__()` 을 호출한다. `__repr__()`도 없으면 상위클래스에 정의된 `__str__()`을 호출한다.\n",
    "        -   print() 함수는 값을 문자열로 변환해서 출력한다. 이때 그 값을 str() 에 넣어 문자열로 변환한다.\n"
   ]
  },
  {
   "cell_type": "code",
   "execution_count": null,
   "metadata": {
    "slideshow": {
     "slide_type": "fragment"
    }
   },
   "outputs": [],
   "source": []
  },
  {
   "cell_type": "markdown",
   "metadata": {
    "slideshow": {
     "slide_type": "subslide"
    }
   },
   "source": [
    "#### 연산자 재정의(Operator overriding) 관련 특수 메소드\n",
    "\n",
    "-   연산자의 피연산자로 객체를 사용하면 호출되는 메소드들\n",
    "-   다항연산자일 경우 가장 왼쪽의 객체에 정의된 메소드가 호출된다.\n",
    "    -   `a + b` 일경우 a의 `__add__()` 가 호출된다.\n",
    "-   **비교 연산자**\n",
    "    -   **`__eq__(self, other)`** : self == other\n",
    "        -   == 로 객체의 내용을 비교할 때 정의 한다.\n",
    "    -   **`__lt__(self, other)`** : self < other,\n",
    "    -   **`__gt__(self, other)`**: self > other\n",
    "        -   min()이나 max()에서 인수로 사용할 경우 정의해야 한다.\n",
    "    -   **`__le__(self, other)`**: self <= other\n",
    "    -   **`__ge__(self, other)`**: self >= other\n",
    "    -   **`__ne__(self, other)`**: self != other\n"
   ]
  },
  {
   "cell_type": "markdown",
   "metadata": {
    "slideshow": {
     "slide_type": "fragment"
    }
   },
   "source": [
    "-   **산술 연산자**\n",
    "    -   **`__add__(self, other)`**: self + other\n",
    "    -   **`__sub__(self, other)`**: self - other\n",
    "    -   **`__mul__(self, other)`**: self \\* other\n",
    "    -   **`__truediv__(self, other)`**: self / other\n",
    "    -   **`__floordiv__(self, other)`**: self // other\n",
    "    -   **`__mod__(self, other)`**: self % other\n"
   ]
  },
  {
   "cell_type": "code",
   "execution_count": null,
   "metadata": {
    "slideshow": {
     "slide_type": "fragment"
    }
   },
   "outputs": [],
   "source": []
  },
  {
   "cell_type": "markdown",
   "metadata": {
    "slideshow": {
     "slide_type": "slide"
    }
   },
   "source": [
    "# class변수, class 메소드\n",
    "\n",
    "-   **class변수**\n",
    "    -   (Intance가 아닌) 클래스 자체의 데이터\n",
    "    -   Attribute가 객체별로 생성된다면, class변수는 클래스당 하나가 생성된다.\n",
    "    -   구현\n",
    "        -   class 블럭에 변수 선언.\n",
    "-   **class 메소드**\n",
    "    -   클래스 변수를 처리하는 메소드\n",
    "    -   구현\n",
    "        -   @classmethod 데코레이터를 붙인다.\n",
    "        -   첫번째 매개변수로 클래스를 받는 변수를 선언한다. 이 변수를 이용해 클래스 변수나 다른 클래스 메소드를 호출 한다.\n"
   ]
  },
  {
   "cell_type": "markdown",
   "metadata": {
    "slideshow": {
     "slide_type": "fragment"
    }
   },
   "source": [
    "## class 메소드/변수 호출\n",
    "\n",
    "-   클래스이름.변수\n",
    "-   클래스이름.메소드()\n"
   ]
  },
  {
   "cell_type": "code",
   "execution_count": null,
   "metadata": {
    "slideshow": {
     "slide_type": "fragment"
    }
   },
   "outputs": [],
   "source": []
  }
 ],
 "metadata": {
  "kernelspec": {
   "display_name": "Python 3 (ipykernel)",
   "language": "python",
   "name": "python3"
  },
  "language_info": {
   "codemirror_mode": {
    "name": "ipython",
    "version": 3
   },
   "file_extension": ".py",
   "mimetype": "text/x-python",
   "name": "python",
   "nbconvert_exporter": "python",
   "pygments_lexer": "ipython3",
   "version": "3.12.9"
  },
  "toc": {
   "base_numbering": 1,
   "nav_menu": {},
   "number_sections": true,
   "sideBar": true,
   "skip_h1_title": false,
   "title_cell": "Table of Contents",
   "title_sidebar": "Contents",
   "toc_cell": false,
   "toc_position": {},
   "toc_section_display": true,
   "toc_window_display": false
  },
  "varInspector": {
   "cols": {
    "lenName": 16,
    "lenType": 16,
    "lenVar": 40
   },
   "kernels_config": {
    "python": {
     "delete_cmd_postfix": "",
     "delete_cmd_prefix": "del ",
     "library": "var_list.py",
     "varRefreshCmd": "print(var_dic_list())"
    },
    "r": {
     "delete_cmd_postfix": ") ",
     "delete_cmd_prefix": "rm(",
     "library": "var_list.r",
     "varRefreshCmd": "cat(var_dic_list()) "
    }
   },
   "types_to_exclude": [
    "module",
    "function",
    "builtin_function_or_method",
    "instance",
    "_Feature"
   ],
   "window_display": false
  }
 },
 "nbformat": 4,
 "nbformat_minor": 4
}
